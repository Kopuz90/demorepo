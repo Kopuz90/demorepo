{
 "cells": [
  {
   "cell_type": "code",
   "execution_count": 4,
   "id": "599a22d0",
   "metadata": {},
   "outputs": [],
   "source": [
    "import numpy as np"
   ]
  },
  {
   "cell_type": "code",
   "execution_count": 5,
   "id": "74d42222",
   "metadata": {},
   "outputs": [],
   "source": [
    "my_list = [1,2,3,4]"
   ]
  },
  {
   "cell_type": "code",
   "execution_count": 6,
   "id": "07bb7189",
   "metadata": {},
   "outputs": [
    {
     "data": {
      "text/plain": [
       "list"
      ]
     },
     "execution_count": 6,
     "metadata": {},
     "output_type": "execute_result"
    }
   ],
   "source": [
    "type(my_list)"
   ]
  },
  {
   "cell_type": "code",
   "execution_count": 7,
   "id": "11ebc7ab",
   "metadata": {},
   "outputs": [
    {
     "data": {
      "text/plain": [
       "array([1, 2, 3, 4])"
      ]
     },
     "execution_count": 7,
     "metadata": {},
     "output_type": "execute_result"
    }
   ],
   "source": [
    "np.array(my_list)"
   ]
  },
  {
   "cell_type": "code",
   "execution_count": 8,
   "id": "3d3c70ff",
   "metadata": {},
   "outputs": [],
   "source": [
    "myarry = np.array(my_list)"
   ]
  },
  {
   "cell_type": "code",
   "execution_count": 9,
   "id": "8d79ffbb",
   "metadata": {},
   "outputs": [
    {
     "data": {
      "text/plain": [
       "array([1, 2, 3, 4])"
      ]
     },
     "execution_count": 9,
     "metadata": {},
     "output_type": "execute_result"
    }
   ],
   "source": [
    "myarry"
   ]
  },
  {
   "cell_type": "code",
   "execution_count": 10,
   "id": "198caf93",
   "metadata": {},
   "outputs": [
    {
     "data": {
      "text/plain": [
       "numpy.ndarray"
      ]
     },
     "execution_count": 10,
     "metadata": {},
     "output_type": "execute_result"
    }
   ],
   "source": [
    "type(myarry)"
   ]
  },
  {
   "cell_type": "code",
   "execution_count": 11,
   "id": "429d25fa",
   "metadata": {},
   "outputs": [],
   "source": [
    "my_matrix =[[1,2,3],[4,5,6],[7,8,9]]"
   ]
  },
  {
   "cell_type": "code",
   "execution_count": 12,
   "id": "f4aa4abd",
   "metadata": {},
   "outputs": [
    {
     "data": {
      "text/plain": [
       "array([[1, 2, 3],\n",
       "       [4, 5, 6],\n",
       "       [7, 8, 9]])"
      ]
     },
     "execution_count": 12,
     "metadata": {},
     "output_type": "execute_result"
    }
   ],
   "source": [
    "np.array(my_matrix)"
   ]
  },
  {
   "cell_type": "code",
   "execution_count": 13,
   "id": "ba23deb5",
   "metadata": {},
   "outputs": [
    {
     "data": {
      "text/plain": [
       "[[1, 2, 3], [4, 5, 6], [7, 8, 9]]"
      ]
     },
     "execution_count": 13,
     "metadata": {},
     "output_type": "execute_result"
    }
   ],
   "source": [
    "my_matrix"
   ]
  },
  {
   "cell_type": "code",
   "execution_count": 16,
   "id": "53d02d22",
   "metadata": {},
   "outputs": [],
   "source": [
    "mymtrix = np.array(my_matrix)"
   ]
  },
  {
   "cell_type": "code",
   "execution_count": 17,
   "id": "c8433ce7",
   "metadata": {},
   "outputs": [
    {
     "data": {
      "text/plain": [
       "array([[1, 2, 3],\n",
       "       [4, 5, 6],\n",
       "       [7, 8, 9]])"
      ]
     },
     "execution_count": 17,
     "metadata": {},
     "output_type": "execute_result"
    }
   ],
   "source": [
    "mymtrix"
   ]
  },
  {
   "cell_type": "code",
   "execution_count": 26,
   "id": "f12a47e2",
   "metadata": {},
   "outputs": [
    {
     "data": {
      "text/plain": [
       "array([ 5. ,  6.5,  8. ,  9.5, 11. , 12.5, 14. , 15.5, 17. , 18.5, 20. ,\n",
       "       21.5, 23. , 24.5, 26. , 27.5, 29. , 30.5, 32. , 33.5, 35. , 36.5,\n",
       "       38. , 39.5])"
      ]
     },
     "execution_count": 26,
     "metadata": {},
     "output_type": "execute_result"
    }
   ],
   "source": [
    "np.arange(5,40,1.5)"
   ]
  },
  {
   "cell_type": "code",
   "execution_count": 28,
   "id": "f77d8e82",
   "metadata": {},
   "outputs": [
    {
     "data": {
      "text/plain": [
       "array([[0., 0.],\n",
       "       [0., 0.],\n",
       "       [0., 0.],\n",
       "       [0., 0.],\n",
       "       [0., 0.]])"
      ]
     },
     "execution_count": 28,
     "metadata": {},
     "output_type": "execute_result"
    }
   ],
   "source": [
    "np.zeros((5,2))"
   ]
  },
  {
   "cell_type": "code",
   "execution_count": 29,
   "id": "c00fd6ef",
   "metadata": {},
   "outputs": [
    {
     "data": {
      "text/plain": [
       "array([0., 0.])"
      ]
     },
     "execution_count": 29,
     "metadata": {},
     "output_type": "execute_result"
    }
   ],
   "source": [
    "np.zeros(2)"
   ]
  },
  {
   "cell_type": "code",
   "execution_count": 30,
   "id": "455b2b5b",
   "metadata": {},
   "outputs": [
    {
     "data": {
      "text/plain": [
       "array([[1., 1., 1., 1.],\n",
       "       [1., 1., 1., 1.]])"
      ]
     },
     "execution_count": 30,
     "metadata": {},
     "output_type": "execute_result"
    }
   ],
   "source": [
    "np.ones((2,4))"
   ]
  },
  {
   "cell_type": "code",
   "execution_count": 31,
   "id": "fbf74055",
   "metadata": {},
   "outputs": [
    {
     "data": {
      "text/plain": [
       "array([ 2., 13., 24.])"
      ]
     },
     "execution_count": 31,
     "metadata": {},
     "output_type": "execute_result"
    }
   ],
   "source": [
    "np.linspace(2,24,3)"
   ]
  },
  {
   "cell_type": "code",
   "execution_count": 32,
   "id": "dbc0fb74",
   "metadata": {},
   "outputs": [
    {
     "data": {
      "text/plain": [
       "array([ 1.        ,  5.33333333,  9.66666667, 14.        ])"
      ]
     },
     "execution_count": 32,
     "metadata": {},
     "output_type": "execute_result"
    }
   ],
   "source": [
    "np.linspace(1,14,4)"
   ]
  },
  {
   "cell_type": "code",
   "execution_count": 33,
   "id": "f21300d6",
   "metadata": {},
   "outputs": [
    {
     "data": {
      "text/plain": [
       "array([ 2.        ,  5.14285714,  8.28571429, 11.42857143, 14.57142857,\n",
       "       17.71428571, 20.85714286, 24.        ])"
      ]
     },
     "execution_count": 33,
     "metadata": {},
     "output_type": "execute_result"
    }
   ],
   "source": [
    "np.linspace(2,24,8)"
   ]
  },
  {
   "cell_type": "code",
   "execution_count": 36,
   "id": "bf57c697",
   "metadata": {},
   "outputs": [
    {
     "data": {
      "text/plain": [
       "8"
      ]
     },
     "execution_count": 36,
     "metadata": {},
     "output_type": "execute_result"
    }
   ],
   "source": [
    "len(np.linspace(2,24,8))"
   ]
  },
  {
   "cell_type": "code",
   "execution_count": 39,
   "id": "6e935f69",
   "metadata": {},
   "outputs": [
    {
     "data": {
      "text/plain": [
       "array([[1., 0., 0., 0.],\n",
       "       [0., 1., 0., 0.],\n",
       "       [0., 0., 1., 0.],\n",
       "       [0., 0., 0., 1.]])"
      ]
     },
     "execution_count": 39,
     "metadata": {},
     "output_type": "execute_result"
    }
   ],
   "source": [
    "np.eye(4)"
   ]
  },
  {
   "cell_type": "code",
   "execution_count": 40,
   "id": "7e58ed2d",
   "metadata": {},
   "outputs": [
    {
     "data": {
      "text/plain": [
       "array([[1., 0., 0., 0., 0., 0., 0.],\n",
       "       [0., 1., 0., 0., 0., 0., 0.],\n",
       "       [0., 0., 1., 0., 0., 0., 0.],\n",
       "       [0., 0., 0., 1., 0., 0., 0.]])"
      ]
     },
     "execution_count": 40,
     "metadata": {},
     "output_type": "execute_result"
    }
   ],
   "source": [
    "np.eye(4,7)"
   ]
  },
  {
   "cell_type": "code",
   "execution_count": 41,
   "id": "e2abcbf6",
   "metadata": {},
   "outputs": [
    {
     "data": {
      "text/plain": [
       "array([0.07027351, 0.22887945, 0.93451313])"
      ]
     },
     "execution_count": 41,
     "metadata": {},
     "output_type": "execute_result"
    }
   ],
   "source": [
    "np.random.rand(3)"
   ]
  },
  {
   "cell_type": "code",
   "execution_count": 96,
   "id": "e24541b6",
   "metadata": {},
   "outputs": [],
   "source": [
    "a = np.random.rand(4,9)"
   ]
  },
  {
   "cell_type": "code",
   "execution_count": 97,
   "id": "a4de7988",
   "metadata": {
    "scrolled": true
   },
   "outputs": [
    {
     "data": {
      "text/plain": [
       "array([[0.73688738, 0.86638985, 0.23075412, 0.10550225, 0.74293527,\n",
       "        0.47515634, 0.75965283, 0.48599313, 0.27593379],\n",
       "       [0.38178337, 0.6762014 , 0.73647103, 0.9706047 , 0.68136272,\n",
       "        0.490452  , 0.12840324, 0.50383093, 0.4096691 ],\n",
       "       [0.25559738, 0.61806603, 0.89501445, 0.66750239, 0.57585336,\n",
       "        0.64872048, 0.96107677, 0.86436925, 0.78272878],\n",
       "       [0.31110332, 0.27191386, 0.95738054, 0.51644268, 0.41742553,\n",
       "        0.63886307, 0.68952736, 0.76848649, 0.44285459]])"
      ]
     },
     "execution_count": 97,
     "metadata": {},
     "output_type": "execute_result"
    }
   ],
   "source": [
    "a"
   ]
  },
  {
   "cell_type": "raw",
   "id": "313d3569",
   "metadata": {},
   "source": []
  },
  {
   "cell_type": "code",
   "execution_count": 95,
   "id": "da7c1c6e",
   "metadata": {},
   "outputs": [
    {
     "data": {
      "text/plain": [
       "array([0.12144377, 0.89100806, 0.51509223, 0.92441901, 0.58124263,\n",
       "       0.77325639, 0.42267689, 0.82546475, 0.38540456, 0.35434596,\n",
       "       0.42807852, 0.39506518, 0.84462971, 0.37382381, 0.37158098,\n",
       "       0.41594296, 0.42454448, 0.66280484, 0.18977593, 0.72247865,\n",
       "       0.25366097, 0.96267414, 0.13266125, 0.8067967 , 0.35499545,\n",
       "       0.0846383 , 0.73116878, 0.99660085, 0.00959277, 0.23757339,\n",
       "       0.46192478, 0.76525884, 0.97250331, 0.915947  , 0.58744678,\n",
       "       0.44437533, 0.44107594, 0.69399137, 0.72664097, 0.73473276,\n",
       "       0.38422053, 0.94539591, 0.79366926, 0.25781467, 0.63648694,\n",
       "       0.84514052, 0.00777515, 0.07703627, 0.98942514, 0.79096501])"
      ]
     },
     "execution_count": 95,
     "metadata": {},
     "output_type": "execute_result"
    }
   ],
   "source": [
    "np.random.rand(50)"
   ]
  },
  {
   "cell_type": "code",
   "execution_count": 52,
   "id": "cb548962",
   "metadata": {},
   "outputs": [
    {
     "data": {
      "text/plain": [
       "array([ 0.73578494, -0.61740936,  1.36415339,  0.28252078, -1.40794657,\n",
       "       -0.2619311 , -1.14357218, -1.95958012])"
      ]
     },
     "execution_count": 52,
     "metadata": {},
     "output_type": "execute_result"
    }
   ],
   "source": [
    "np.random.randn(8)"
   ]
  },
  {
   "cell_type": "code",
   "execution_count": 63,
   "id": "fb1de81b",
   "metadata": {},
   "outputs": [
    {
     "data": {
      "text/plain": [
       "array([ 0.12383134,  0.33041733, -1.00143028,  1.88367842,  0.22983308,\n",
       "       -1.06242943,  1.90846433,  1.64744035,  0.47433736,  0.45228957,\n",
       "       -0.5001927 ,  0.34532523,  0.79584917,  0.74965782,  0.4333172 ,\n",
       "       -1.19709288, -1.59671766,  1.3168491 ,  0.224065  ,  0.25267995,\n",
       "        1.45854123, -0.38452911, -1.00182875,  0.93810558, -0.73316065,\n",
       "       -1.67105075,  0.73869059,  0.70247164, -0.58945635,  0.20912194,\n",
       "       -0.9758187 ,  2.23063158, -1.04572173,  0.9598104 ,  1.11688286,\n",
       "       -0.31296429,  1.92481748,  2.40773413, -0.05379033,  1.95558482,\n",
       "        0.06833152,  0.39509313,  0.30484036,  0.42914391, -0.48033556,\n",
       "        1.5478576 , -0.04618184,  0.24113297,  1.127451  ,  0.69054496,\n",
       "        0.70185795,  0.19047268, -1.69372178,  0.34563641, -0.53012699,\n",
       "        0.48354396, -2.2227941 , -0.34716842, -0.63864834,  1.56244044,\n",
       "       -0.25485254,  0.22647304, -0.11595207,  0.87701049, -0.8769477 ,\n",
       "       -1.5639909 ,  0.60498183,  1.45380332, -0.15571987,  0.43613731,\n",
       "        0.51334171, -0.14455183,  0.73532602, -2.83577341, -0.49691656,\n",
       "       -0.63584189,  1.3248454 ,  0.74017096,  1.31056439,  2.46892078,\n",
       "       -0.45284874,  0.45384467,  1.54381746, -0.7146313 , -0.90823293,\n",
       "       -0.31123203,  1.97592922,  0.1127545 ,  0.72859669,  0.03937212,\n",
       "       -0.66021622, -0.01655054,  0.43303257, -1.13837734,  0.55452364,\n",
       "       -0.4051484 ,  1.66598104,  0.24870297, -0.95419928, -0.48678992,\n",
       "       -0.0349531 , -0.80937488, -0.652365  ,  0.18780596, -1.33900983,\n",
       "       -0.3287019 ,  0.35892008,  0.13474544,  1.06109929, -2.07521297,\n",
       "        1.78236656, -0.71968988,  0.31238535,  0.02949011,  1.00652136,\n",
       "       -0.01726342,  2.59440239,  0.61581923, -0.19492975,  1.0474988 ,\n",
       "        1.06312975,  1.33353229,  0.47562659, -0.6796642 , -0.78157895,\n",
       "        1.65022223,  0.21761171, -1.13135067,  0.48013892, -1.22744767,\n",
       "       -0.15421224,  1.13659331, -0.08890089,  2.05686411, -1.7390391 ,\n",
       "       -0.55470458, -2.53559108, -0.73377465,  2.29620078,  0.57972908,\n",
       "       -0.99801279,  0.57780759,  0.24041243, -1.24009444, -0.72570051,\n",
       "        1.46997971,  1.22106529,  0.484253  , -0.80719282, -0.9635812 ,\n",
       "       -2.62822618, -0.2140463 , -0.1632897 , -0.74277494, -0.57984352,\n",
       "       -2.62020577, -0.67033295, -0.01607587, -0.23264306, -1.78441282,\n",
       "        0.21991386, -0.41547227, -0.9564555 , -2.61080522, -0.50617165,\n",
       "       -0.43454133,  0.3593897 ,  0.55941186,  0.64971689,  0.13126715,\n",
       "        0.06271446,  0.94843566,  1.23362973, -0.24276359, -2.65335303,\n",
       "       -0.88595433,  1.29726463, -1.57144498, -1.71788365, -0.02102064,\n",
       "        1.49407137,  0.44586213, -0.38626508, -0.77721283,  0.86164029,\n",
       "       -1.819236  , -0.76297734, -1.60013538, -1.15334256,  1.93540847,\n",
       "        0.5718828 ,  2.03659933,  1.53610838,  0.43378561, -0.68022044,\n",
       "       -0.55357068, -0.59891638,  0.37900408, -0.12443402, -0.50121919])"
      ]
     },
     "execution_count": 63,
     "metadata": {},
     "output_type": "execute_result"
    }
   ],
   "source": [
    "np.random.randn(200)"
   ]
  },
  {
   "cell_type": "code",
   "execution_count": 59,
   "id": "3e8ae872",
   "metadata": {},
   "outputs": [
    {
     "data": {
      "text/plain": [
       "array([[ 6, 11, 11, 12],\n",
       "       [ 9,  8, 12,  2],\n",
       "       [ 2,  3,  8, 11],\n",
       "       [ 3, 13,  7,  8],\n",
       "       [ 6,  6,  3,  6]])"
      ]
     },
     "execution_count": 59,
     "metadata": {},
     "output_type": "execute_result"
    }
   ],
   "source": [
    "np.random.randint(2,14,(5,4))"
   ]
  },
  {
   "cell_type": "code",
   "execution_count": 67,
   "id": "35998c41",
   "metadata": {},
   "outputs": [
    {
     "data": {
      "text/plain": [
       "array([0.5881308 , 0.89771373, 0.89153073, 0.81583748, 0.03588959])"
      ]
     },
     "execution_count": 67,
     "metadata": {},
     "output_type": "execute_result"
    }
   ],
   "source": [
    "np.random.seed(20)\n",
    "np.random.rand(5)"
   ]
  },
  {
   "cell_type": "code",
   "execution_count": 68,
   "id": "18b63009",
   "metadata": {},
   "outputs": [
    {
     "data": {
      "text/plain": [
       "array([0.69175758, 0.37868094, 0.51851095, 0.65795147, 0.19385022])"
      ]
     },
     "execution_count": 68,
     "metadata": {},
     "output_type": "execute_result"
    }
   ],
   "source": [
    "np.random.rand(5)"
   ]
  },
  {
   "cell_type": "code",
   "execution_count": 69,
   "id": "bdd7df82",
   "metadata": {},
   "outputs": [
    {
     "data": {
      "text/plain": [
       "array([0.2723164 , 0.71860593, 0.78300361, 0.85032764, 0.77524489])"
      ]
     },
     "execution_count": 69,
     "metadata": {},
     "output_type": "execute_result"
    }
   ],
   "source": [
    "np.random.rand(5)"
   ]
  },
  {
   "cell_type": "code",
   "execution_count": 71,
   "id": "f001b2f7",
   "metadata": {},
   "outputs": [
    {
     "data": {
      "text/plain": [
       "array([0.5881308 , 0.89771373, 0.89153073, 0.81583748, 0.03588959,\n",
       "       0.69175758])"
      ]
     },
     "execution_count": 71,
     "metadata": {},
     "output_type": "execute_result"
    }
   ],
   "source": [
    "np.random.seed(20)\n",
    "np.random.rand(6)"
   ]
  },
  {
   "cell_type": "code",
   "execution_count": 72,
   "id": "758258a2",
   "metadata": {},
   "outputs": [],
   "source": [
    "arr = np.arange(0,30)"
   ]
  },
  {
   "cell_type": "code",
   "execution_count": 73,
   "id": "51ab6a77",
   "metadata": {},
   "outputs": [
    {
     "data": {
      "text/plain": [
       "array([ 0,  1,  2,  3,  4,  5,  6,  7,  8,  9, 10, 11, 12, 13, 14, 15, 16,\n",
       "       17, 18, 19, 20, 21, 22, 23, 24, 25, 26, 27, 28, 29])"
      ]
     },
     "execution_count": 73,
     "metadata": {},
     "output_type": "execute_result"
    }
   ],
   "source": [
    "arr"
   ]
  },
  {
   "cell_type": "code",
   "execution_count": 75,
   "id": "97ae7f18",
   "metadata": {},
   "outputs": [
    {
     "data": {
      "text/plain": [
       "array([[ 0,  1,  2,  3,  4,  5],\n",
       "       [ 6,  7,  8,  9, 10, 11],\n",
       "       [12, 13, 14, 15, 16, 17],\n",
       "       [18, 19, 20, 21, 22, 23],\n",
       "       [24, 25, 26, 27, 28, 29]])"
      ]
     },
     "execution_count": 75,
     "metadata": {},
     "output_type": "execute_result"
    }
   ],
   "source": [
    "arr.reshape(5,6)"
   ]
  },
  {
   "cell_type": "code",
   "execution_count": 82,
   "id": "32c6c7ab",
   "metadata": {},
   "outputs": [],
   "source": [
    "nrarry = np.random.randint(0,100,20)"
   ]
  },
  {
   "cell_type": "code",
   "execution_count": 86,
   "id": "093ba2bc",
   "metadata": {},
   "outputs": [
    {
     "data": {
      "text/plain": [
       "array([40, 85, 90, 26, 83, 16, 62, 16,  7, 98,  6, 26, 13, 75, 58, 25,  3,\n",
       "       74, 75, 61])"
      ]
     },
     "execution_count": 86,
     "metadata": {},
     "output_type": "execute_result"
    }
   ],
   "source": [
    "nrarry"
   ]
  },
  {
   "cell_type": "code",
   "execution_count": 87,
   "id": "cda1a7f1",
   "metadata": {},
   "outputs": [
    {
     "data": {
      "text/plain": [
       "98"
      ]
     },
     "execution_count": 87,
     "metadata": {},
     "output_type": "execute_result"
    }
   ],
   "source": [
    "nrarry.max()"
   ]
  },
  {
   "cell_type": "code",
   "execution_count": 88,
   "id": "36b38b5a",
   "metadata": {},
   "outputs": [
    {
     "data": {
      "text/plain": [
       "3"
      ]
     },
     "execution_count": 88,
     "metadata": {},
     "output_type": "execute_result"
    }
   ],
   "source": [
    "nrarry.min()"
   ]
  },
  {
   "cell_type": "code",
   "execution_count": 89,
   "id": "4cbec26f",
   "metadata": {},
   "outputs": [
    {
     "data": {
      "text/plain": [
       "9"
      ]
     },
     "execution_count": 89,
     "metadata": {},
     "output_type": "execute_result"
    }
   ],
   "source": [
    "nrarry.argmax()"
   ]
  },
  {
   "cell_type": "code",
   "execution_count": 91,
   "id": "e04893ae",
   "metadata": {},
   "outputs": [
    {
     "data": {
      "text/plain": [
       "16"
      ]
     },
     "execution_count": 91,
     "metadata": {},
     "output_type": "execute_result"
    }
   ],
   "source": [
    "nrarry.argmin()"
   ]
  },
  {
   "cell_type": "code",
   "execution_count": 90,
   "id": "e3060fa0",
   "metadata": {},
   "outputs": [
    {
     "data": {
      "text/plain": [
       "[3, 6, 7, 13, 16, 16, 25, 26, 26, 40, 58, 61, 62, 74, 75, 75, 83, 85, 90, 98]"
      ]
     },
     "execution_count": 90,
     "metadata": {},
     "output_type": "execute_result"
    }
   ],
   "source": [
    "sorted(nrarry)"
   ]
  },
  {
   "cell_type": "code",
   "execution_count": 92,
   "id": "f26a415d",
   "metadata": {},
   "outputs": [
    {
     "data": {
      "text/plain": [
       "dtype('int32')"
      ]
     },
     "execution_count": 92,
     "metadata": {},
     "output_type": "execute_result"
    }
   ],
   "source": [
    "nrarry.dtype"
   ]
  },
  {
   "cell_type": "code",
   "execution_count": 98,
   "id": "7298e6f2",
   "metadata": {},
   "outputs": [
    {
     "data": {
      "text/plain": [
       "dtype('float64')"
      ]
     },
     "execution_count": 98,
     "metadata": {},
     "output_type": "execute_result"
    }
   ],
   "source": [
    "a.dtype"
   ]
  },
  {
   "cell_type": "code",
   "execution_count": 99,
   "id": "8c05b278",
   "metadata": {},
   "outputs": [],
   "source": [
    "b = np.random.rand(2,6)"
   ]
  },
  {
   "cell_type": "code",
   "execution_count": 100,
   "id": "44f206e2",
   "metadata": {},
   "outputs": [
    {
     "data": {
      "text/plain": [
       "array([[0.95131449, 0.53279129, 0.31356138, 0.20352206, 0.98534762,\n",
       "        0.46783921],\n",
       "       [0.70292922, 0.15460409, 0.73099939, 0.66058604, 0.73642868,\n",
       "        0.90668929]])"
      ]
     },
     "execution_count": 100,
     "metadata": {},
     "output_type": "execute_result"
    }
   ],
   "source": [
    "b"
   ]
  },
  {
   "cell_type": "code",
   "execution_count": 101,
   "id": "a9b821b3",
   "metadata": {},
   "outputs": [
    {
     "data": {
      "text/plain": [
       "dtype('float64')"
      ]
     },
     "execution_count": 101,
     "metadata": {},
     "output_type": "execute_result"
    }
   ],
   "source": [
    "b.dtype"
   ]
  },
  {
   "cell_type": "code",
   "execution_count": 102,
   "id": "98837f41",
   "metadata": {},
   "outputs": [],
   "source": [
    "# TASK: Create a numpy array called myarray which consists of 101 evenly linearly spaced points between 0 and 10."
   ]
  },
  {
   "cell_type": "code",
   "execution_count": 109,
   "id": "013d42c4",
   "metadata": {},
   "outputs": [],
   "source": [
    "myarray = np.linspace(0,101,10)"
   ]
  },
  {
   "cell_type": "code",
   "execution_count": 110,
   "id": "c31e5059",
   "metadata": {},
   "outputs": [
    {
     "data": {
      "text/plain": [
       "array([  0.        ,  11.22222222,  22.44444444,  33.66666667,\n",
       "        44.88888889,  56.11111111,  67.33333333,  78.55555556,\n",
       "        89.77777778, 101.        ])"
      ]
     },
     "execution_count": 110,
     "metadata": {},
     "output_type": "execute_result"
    }
   ],
   "source": [
    "myarray"
   ]
  },
  {
   "cell_type": "code",
   "execution_count": null,
   "id": "3c20f809",
   "metadata": {},
   "outputs": [],
   "source": []
  }
 ],
 "metadata": {
  "kernelspec": {
   "display_name": "Python 3 (ipykernel)",
   "language": "python",
   "name": "python3"
  },
  "language_info": {
   "codemirror_mode": {
    "name": "ipython",
    "version": 3
   },
   "file_extension": ".py",
   "mimetype": "text/x-python",
   "name": "python",
   "nbconvert_exporter": "python",
   "pygments_lexer": "ipython3",
   "version": "3.7.4"
  }
 },
 "nbformat": 4,
 "nbformat_minor": 5
}
